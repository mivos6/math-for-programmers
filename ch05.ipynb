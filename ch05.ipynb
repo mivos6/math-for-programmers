{
 "cells": [
  {
   "cell_type": "code",
   "execution_count": 1,
   "id": "opposed-replacement",
   "metadata": {},
   "outputs": [
    {
     "name": "stdout",
     "output_type": "stream",
     "text": [
      "pygame 2.0.1 (SDL 2.0.14, Python 3.9.5)\n",
      "Hello from the pygame community. https://www.pygame.org/contribute.html\n"
     ]
    }
   ],
   "source": [
    "from math import pi, sin, cos, acos, floor\n",
    "import random\n",
    "import matplotlib\n",
    "import numpy as np\n",
    "import matplotlib.pyplot as plt\n",
    "import io\n",
    "import sys\n",
    "\n",
    "sys.path.append(\"scripts/ch05\")\n",
    "from vectors import *\n",
    "from transformations import *\n",
    "from matrices import *\n",
    "from transformation_test_utils import *\n",
    "from notebook_utils import display_inline\n",
    "import display3d as d3\n",
    "import load_off as ld\n",
    "import draw2d as d2"
   ]
  },
  {
   "cell_type": "code",
   "execution_count": 2,
   "id": "blessed-hostel",
   "metadata": {},
   "outputs": [
    {
     "name": "stdout",
     "output_type": "stream",
     "text": [
      "(1, -2, -2)\n"
     ]
    }
   ],
   "source": [
    "v = (3, -2, 5)\n",
    "b = ((0, 2, 1), (0, 1, 0), (1, 0, -1))\n",
    "\n",
    "print(multiply_matrix_vector(b, v))"
   ]
  },
  {
   "cell_type": "code",
   "execution_count": 3,
   "id": "worst-sheriff",
   "metadata": {},
   "outputs": [
    {
     "name": "stdout",
     "output_type": "stream",
     "text": [
      "((0, 3, 1), (1, 2, 0), (1, 1, 0))\n"
     ]
    }
   ],
   "source": [
    "a = ((1, 1, 0), (1, 0, 1), (1, -1, 1))\n",
    "b = ((0, 2, 1), (0, 1, 0), (1, 0, -1))\n",
    "\n",
    "print(matrix_multiply(a, b))"
   ]
  },
  {
   "cell_type": "code",
   "execution_count": 4,
   "id": "wooden-lounge",
   "metadata": {},
   "outputs": [],
   "source": [
    "teapot_vertices, teapot_faces = ld.load_off_file('scripts/ch05/teapot.off')\n",
    "\n",
    "light = (1, -5, 5)\n",
    "teapot_model = ld.create_3d_model(teapot_vertices, teapot_faces)\n",
    "\n",
    "display_properties = d3.DisplayProperties(\n",
    "    scene=d3.Scene(\n",
    "        translate=(-0.5, 0.0, -5.0),\n",
    "        rotate=d3.Rotation(\n",
    "            initial=-90.0,\n",
    "            axis=(1.0, 0.0, 0.0),\n",
    "        )\n",
    "    )\n",
    ")\n",
    "\n",
    "d3.display_in_window(teapot_model, light, display_properties)"
   ]
  },
  {
   "cell_type": "code",
   "execution_count": null,
   "id": "industrial-encyclopedia",
   "metadata": {},
   "outputs": [],
   "source": []
  }
 ],
 "metadata": {
  "kernelspec": {
   "display_name": "Python 3",
   "language": "python",
   "name": "python3"
  },
  "language_info": {
   "codemirror_mode": {
    "name": "ipython",
    "version": 3
   },
   "file_extension": ".py",
   "mimetype": "text/x-python",
   "name": "python",
   "nbconvert_exporter": "python",
   "pygments_lexer": "ipython3",
   "version": "3.9.5"
  }
 },
 "nbformat": 4,
 "nbformat_minor": 5
}
