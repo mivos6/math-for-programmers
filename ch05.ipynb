{
 "cells": [
  {
   "cell_type": "code",
   "execution_count": 1,
   "source": [
    "import random\r\n",
    "import sys\r\n",
    "\r\n",
    "sys.path.append(\"scripts/ch05\")\r\n",
    "from vectors import *\r\n",
    "from transformations import *\r\n",
    "from matrices import *\r\n",
    "from transformation_test_utils import *\r\n",
    "from notebook_utils import display_inline\r\n",
    "import display3d as d3\r\n",
    "import load_off as ld\r\n",
    "import draw2d as d2"
   ],
   "outputs": [
    {
     "output_type": "stream",
     "name": "stdout",
     "text": [
      "pygame 2.0.1 (SDL 2.0.14, Python 3.9.6)\n",
      "Hello from the pygame community. https://www.pygame.org/contribute.html\n"
     ]
    }
   ],
   "metadata": {}
  },
  {
   "cell_type": "code",
   "execution_count": 2,
   "source": [
    "v = (3, -2, 5)\r\n",
    "b = ((0, 2, 1), (0, 1, 0), (1, 0, -1))\r\n",
    "\r\n",
    "print(multiply_matrix_vector(b, v))"
   ],
   "outputs": [
    {
     "output_type": "stream",
     "name": "stdout",
     "text": [
      "(1, -2, -2)\n"
     ]
    }
   ],
   "metadata": {}
  },
  {
   "cell_type": "code",
   "execution_count": 3,
   "source": [
    "a = ((1, 1, 0), (1, 0, 1), (1, -1, 1))\r\n",
    "b = ((0, 2, 1), (0, 1, 0), (1, 0, -1))\r\n",
    "\r\n",
    "print(matrix_multiply(a, b))"
   ],
   "outputs": [
    {
     "output_type": "stream",
     "name": "stdout",
     "text": [
      "((0, 3, 1), (1, 2, 0), (1, 1, 0))\n"
     ]
    }
   ],
   "metadata": {}
  },
  {
   "cell_type": "code",
   "execution_count": 4,
   "source": [
    "teapot_vertices, teapot_faces = ld.load_off_file('scripts/ch05/teapot.off')\r\n",
    "\r\n",
    "light = (1, -5, 5)\r\n",
    "teapot_model = ld.create_3d_model(teapot_vertices, teapot_faces)\r\n",
    "\r\n",
    "display_properties = d3.DisplayProperties(\r\n",
    "    scene=d3.Scene(\r\n",
    "        translate=(-0.5, 0.0, -5.0),\r\n",
    "        rotate=d3.Rotation(\r\n",
    "            initial=-90.0,\r\n",
    "            axis=(1.0, 0.0, 0.0),\r\n",
    "        )\r\n",
    "    )\r\n",
    ")\r\n",
    "\r\n",
    "d3.display_in_window(teapot_model, light, display_properties)"
   ],
   "outputs": [],
   "metadata": {}
  },
  {
   "cell_type": "code",
   "execution_count": 5,
   "source": [
    "def infer_matrix(n, transform):\r\n",
    "    standard_basis = [tuple(1 if i == j else 0 for i in range(n)) for j in range(n)]\r\n",
    "    \r\n",
    "    cols = [transform(v) for v in standard_basis]\r\n",
    "    return tuple(zip(*cols))\r\n",
    "\r\n",
    "test_n = 2\r\n",
    "test_t = scale_by(2)\r\n",
    "\r\n",
    "print(infer_matrix(test_n, test_t))"
   ],
   "outputs": [
    {
     "output_type": "stream",
     "name": "stdout",
     "text": [
      "((2, 0), (0, 2))\n"
     ]
    }
   ],
   "metadata": {}
  },
  {
   "cell_type": "code",
   "execution_count": 6,
   "source": [
    "a = ((1.3, -0.7), (6.5, 3.2))\r\n",
    "v = (-2.5, 0.3)\r\n",
    "\r\n",
    "print(multiply_matrix_vector(a, v))"
   ],
   "outputs": [
    {
     "output_type": "stream",
     "name": "stdout",
     "text": [
      "(-3.46, -15.29)\n"
     ]
    }
   ],
   "metadata": {}
  },
  {
   "cell_type": "code",
   "execution_count": 7,
   "source": [
    "def random_matrix(rows, cols, min=-10, max=10):\r\n",
    "    return tuple(tuple(random.randint(min, max) for _ in range(cols))  for _ in range(rows))\r\n",
    "\r\n",
    "random.seed(0)\r\n",
    "matrix_pairs = [(random_matrix(3, 3), random_matrix(3, 3)) for _ in range(5)]\r\n",
    "\r\n",
    "multiplied_matrices = [matrix_multiply(p[0], p[1]) for p in matrix_pairs]\r\n",
    "print(multiplied_matrices)"
   ],
   "outputs": [
    {
     "output_type": "stream",
     "name": "stdout",
     "text": [
      "[((74, 61, -92), (4, -87, 47), (-34, -13, 38)), ((97, -22, 124), (-115, 70, -64), (-6, 36, 27)), ((70, -98, 9), (-65, -36, -19), (-140, 84, -74)), ((72, -2, -53), (-71, 47, 35), (-40, -96, 64)), ((-10, -41, -5), (-6, -3, 25), (-4, -37, -9))]\n"
     ]
    }
   ],
   "metadata": {}
  },
  {
   "cell_type": "code",
   "execution_count": 8,
   "source": [
    "reversed_multiplied_matrices = [matrix_multiply(p[1], p[0]) for p in matrix_pairs]\r\n",
    "print(reversed_multiplied_matrices)"
   ],
   "outputs": [
    {
     "output_type": "stream",
     "name": "stdout",
     "text": [
      "[((-22, 55, 11), (22, -17, -89), (20, -69, 64)), ((20, 56, 117), (-78, 21, 72), (-52, 74, 153)), ((-20, 58, 8), (55, 44, 24), (56, 104, -64)), ((74, 73, 2), (-42, 60, 31), (-98, 70, 49)), ((46, -72, 90), (-48, 44, -71), (-99, 48, -112))]\n"
     ]
    }
   ],
   "metadata": {}
  },
  {
   "cell_type": "code",
   "execution_count": 9,
   "source": [
    "identity_transform = lambda vector: vector\r\n",
    "\r\n",
    "i2 = infer_matrix(2, identity_transform)\r\n",
    "i3 = infer_matrix(3, identity_transform)\r\n",
    "\r\n",
    "print(i2, i3)"
   ],
   "outputs": [
    {
     "output_type": "stream",
     "name": "stdout",
     "text": [
      "((1, 0), (0, 1)) ((1, 0, 0), (0, 1, 0), (0, 0, 1))\n"
     ]
    }
   ],
   "metadata": {}
  },
  {
   "cell_type": "code",
   "execution_count": 10,
   "source": [
    "transform = ((2,1,1),(1,2,1),(1,1,2))\r\n",
    "teapot_model_transformed = map_to_polygons(lambda v: multiply_matrix_vector(transform, v),teapot_model)\r\n",
    "\r\n",
    "image = d3.render_frame(teapot_model_transformed, light, display_properties)\r\n",
    "display_inline(image)"
   ],
   "outputs": [
    {
     "output_type": "display_data",
     "data": {
      "text/plain": [
       "<PIL.Image.Image image mode=RGB size=400x400 at 0x1CF9F649FD0>"
      ],
      "image/png": "[encoded data removed]"
     },
     "metadata": {}
    }
   ],
   "metadata": {}
  },
  {
   "cell_type": "code",
   "execution_count": 11,
   "source": [
    "m = random_matrix(3, 3)\r\n",
    "v = random_matrix(1, 3)[0]\r\n",
    "\r\n",
    "assert vector_epsilon_equal(multiply_matrix_vector(m, v), multiply_matrix_vector2(m, v))\r\n",
    "assert vector_epsilon_equal(multiply_matrix_vector(m, v), multiply_matrix_vector3(m, v))\r\n"
   ],
   "outputs": [
    {
     "output_type": "error",
     "ename": "NameError",
     "evalue": "name 'epsilon_equal' is not defined",
     "traceback": [
      "\u001b[1;31m---------------------------------------------------------------------------\u001b[0m",
      "\u001b[1;31mNameError\u001b[0m                                 Traceback (most recent call last)",
      "\u001b[1;32m~\\AppData\\Local\\Temp/ipykernel_5272/3582587844.py\u001b[0m in \u001b[0;36m<module>\u001b[1;34m\u001b[0m\n\u001b[0;32m      2\u001b[0m \u001b[0mv\u001b[0m \u001b[1;33m=\u001b[0m \u001b[0mrandom_matrix\u001b[0m\u001b[1;33m(\u001b[0m\u001b[1;36m1\u001b[0m\u001b[1;33m,\u001b[0m \u001b[1;36m3\u001b[0m\u001b[1;33m)\u001b[0m\u001b[1;33m[\u001b[0m\u001b[1;36m0\u001b[0m\u001b[1;33m]\u001b[0m\u001b[1;33m\u001b[0m\u001b[1;33m\u001b[0m\u001b[0m\n\u001b[0;32m      3\u001b[0m \u001b[1;33m\u001b[0m\u001b[0m\n\u001b[1;32m----> 4\u001b[1;33m \u001b[1;32massert\u001b[0m \u001b[0mepsilon_equal\u001b[0m\u001b[1;33m(\u001b[0m\u001b[0mmultiply_matrix_vector\u001b[0m\u001b[1;33m(\u001b[0m\u001b[0mm\u001b[0m\u001b[1;33m,\u001b[0m \u001b[0mv\u001b[0m\u001b[1;33m)\u001b[0m\u001b[1;33m,\u001b[0m \u001b[0mmultiply_matrix_vector2\u001b[0m\u001b[1;33m(\u001b[0m\u001b[0mm\u001b[0m\u001b[1;33m,\u001b[0m \u001b[0mv\u001b[0m\u001b[1;33m)\u001b[0m\u001b[1;33m)\u001b[0m\u001b[1;33m\u001b[0m\u001b[1;33m\u001b[0m\u001b[0m\n\u001b[0m\u001b[0;32m      5\u001b[0m \u001b[1;32massert\u001b[0m \u001b[0mepsilon_equal\u001b[0m\u001b[1;33m(\u001b[0m\u001b[0mmultiply_matrix_vector\u001b[0m\u001b[1;33m(\u001b[0m\u001b[0mm\u001b[0m\u001b[1;33m,\u001b[0m \u001b[0mv\u001b[0m\u001b[1;33m)\u001b[0m\u001b[1;33m,\u001b[0m \u001b[0mmultiply_matrix_vector3\u001b[0m\u001b[1;33m(\u001b[0m\u001b[0mm\u001b[0m\u001b[1;33m,\u001b[0m \u001b[0mv\u001b[0m\u001b[1;33m)\u001b[0m\u001b[1;33m)\u001b[0m\u001b[1;33m\u001b[0m\u001b[1;33m\u001b[0m\u001b[0m\n",
      "\u001b[1;31mNameError\u001b[0m: name 'epsilon_equal' is not defined"
     ]
    }
   ],
   "metadata": {}
  },
  {
   "cell_type": "code",
   "execution_count": null,
   "source": [
    "def compose_a_b(v):\r\n",
    "    a = ((1, 1, 0), (1, 0, 1), (1, -1, 1))\r\n",
    "    b = ((0, 2, 1), (0, 1, 0), (1, 0, -1))\r\n",
    "\r\n",
    "    return multiply_matrix_vector(b, multiply_matrix_vector(a, v))\r\n",
    "\r\n",
    "a = ((1, 1, 0), (1, 0, 1), (1, -1, 1))\r\n",
    "b = ((0, 2, 1), (0, 1, 0), (1, 0, -1))\r\n",
    "comp_a_b = infer_matrix(3, compose_a_b)\r\n",
    "\r\n",
    "assert matrix_epsilon_equal(comp_a_b, matrix_multiply(b, a))\r\n"
   ],
   "outputs": [],
   "metadata": {}
  }
 ],
 "metadata": {
  "kernelspec": {
   "name": "python3",
   "display_name": "Python 3.9.6 64-bit ('env': venv)"
  },
  "language_info": {
   "codemirror_mode": {
    "name": "ipython",
    "version": 3
   },
   "file_extension": ".py",
   "mimetype": "text/x-python",
   "name": "python",
   "nbconvert_exporter": "python",
   "pygments_lexer": "ipython3",
   "version": "3.9.6"
  },
  "interpreter": {
   "hash": "c95b3967074c4ccd5bcc03f33ff78f0e5330ca5bcc261e1cb31297ca120c5df8"
  }
 },
 "nbformat": 4,
 "nbformat_minor": 5
}