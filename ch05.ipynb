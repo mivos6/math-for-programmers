{
 "cells": [
  {
   "cell_type": "code",
   "execution_count": 1,
   "source": [
    "import random\n",
    "\n",
    "from scripts.vectors import *\n",
    "from scripts.transformations import *\n",
    "from scripts.matrices import *\n",
    "from scripts.compare import matrix_epsilon_equal\n",
    "from scripts.transformation_test_utils import *\n",
    "from scripts.notebook_utils import display_inline\n",
    "import scripts.display3d as d3\n",
    "import scripts.load_off as ld\n",
    "import scripts.draw2d as d2"
   ],
   "outputs": [
    {
     "output_type": "stream",
     "name": "stdout",
     "text": [
      "pygame 2.0.1 (SDL 2.0.14, Python 3.9.6)\n",
      "Hello from the pygame community. https://www.pygame.org/contribute.html\n"
     ]
    }
   ],
   "metadata": {}
  },
  {
   "cell_type": "code",
   "execution_count": 2,
   "source": [
    "v = (3, -2, 5)\n",
    "b = ((0, 2, 1), (0, 1, 0), (1, 0, -1))\n",
    "\n",
    "print(multiply_matrix_vector(b, v))"
   ],
   "outputs": [
    {
     "output_type": "stream",
     "name": "stdout",
     "text": [
      "(1, -2, -2)\n"
     ]
    }
   ],
   "metadata": {}
  },
  {
   "cell_type": "code",
   "execution_count": 3,
   "source": [
    "a = ((1, 1, 0), (1, 0, 1), (1, -1, 1))\n",
    "b = ((0, 2, 1), (0, 1, 0), (1, 0, -1))\n",
    "\n",
    "print(matrix_multiply(a, b))"
   ],
   "outputs": [
    {
     "output_type": "stream",
     "name": "stdout",
     "text": [
      "((0, 3, 1), (1, 2, 0), (1, 1, 0))\n"
     ]
    }
   ],
   "metadata": {}
  },
  {
   "cell_type": "code",
   "execution_count": 4,
   "source": [
    "teapot_vertices, teapot_faces = ld.load_off_file('resources/teapot.off')\n",
    "\n",
    "light = (1, -5, 5)\n",
    "teapot_model = ld.create_3d_model(teapot_vertices, teapot_faces)\n",
    "\n",
    "display_properties = d3.DisplayProperties(\n",
    "    scene=d3.Scene(\n",
    "        translate=(-0.5, 0.0, -5.0),\n",
    "        rotate=d3.Rotation(\n",
    "            initial=-90.0,\n",
    "            axis=(1.0, 0.0, 0.0),\n",
    "        )\n",
    "    )\n",
    ")\n",
    "\n",
    "d3.display_in_window(teapot_model, light, display_properties)"
   ],
   "outputs": [],
   "metadata": {}
  },
  {
   "cell_type": "code",
   "execution_count": 5,
   "source": [
    "def infer_matrix(n, transform):\n",
    "    standard_basis = [tuple(1 if i == j else 0 for i in range(n)) for j in range(n)]\n",
    "    \n",
    "    cols = [transform(v) for v in standard_basis]\n",
    "    return tuple(zip(*cols))\n",
    "\n",
    "test_n = 2\n",
    "test_t = scale_by(2)\n",
    "\n",
    "print(infer_matrix(test_n, test_t))"
   ],
   "outputs": [
    {
     "output_type": "stream",
     "name": "stdout",
     "text": [
      "((2, 0), (0, 2))\n"
     ]
    }
   ],
   "metadata": {}
  },
  {
   "cell_type": "code",
   "execution_count": 6,
   "source": [
    "a = ((1.3, -0.7), (6.5, 3.2))\n",
    "v = (-2.5, 0.3)\n",
    "\n",
    "print(multiply_matrix_vector(a, v))"
   ],
   "outputs": [
    {
     "output_type": "stream",
     "name": "stdout",
     "text": [
      "(-3.46, -15.29)\n"
     ]
    }
   ],
   "metadata": {}
  },
  {
   "cell_type": "code",
   "execution_count": 7,
   "source": [
    "def random_matrix(rows, cols, min=-10, max=10):\n",
    "    return tuple(tuple(random.randint(min, max) for _ in range(cols))  for _ in range(rows))\n",
    "\n",
    "random.seed(0)\n",
    "matrix_pairs = [(random_matrix(3, 3), random_matrix(3, 3)) for _ in range(5)]\n",
    "\n",
    "multiplied_matrices = [matrix_multiply(p[0], p[1]) for p in matrix_pairs]\n",
    "print(multiplied_matrices)"
   ],
   "outputs": [
    {
     "output_type": "stream",
     "name": "stdout",
     "text": [
      "[((74, 61, -92), (4, -87, 47), (-34, -13, 38)), ((97, -22, 124), (-115, 70, -64), (-6, 36, 27)), ((70, -98, 9), (-65, -36, -19), (-140, 84, -74)), ((72, -2, -53), (-71, 47, 35), (-40, -96, 64)), ((-10, -41, -5), (-6, -3, 25), (-4, -37, -9))]\n"
     ]
    }
   ],
   "metadata": {}
  },
  {
   "cell_type": "code",
   "execution_count": 8,
   "source": [
    "reversed_multiplied_matrices = [matrix_multiply(p[1], p[0]) for p in matrix_pairs]\n",
    "print(reversed_multiplied_matrices)"
   ],
   "outputs": [
    {
     "output_type": "stream",
     "name": "stdout",
     "text": [
      "[((-22, 55, 11), (22, -17, -89), (20, -69, 64)), ((20, 56, 117), (-78, 21, 72), (-52, 74, 153)), ((-20, 58, 8), (55, 44, 24), (56, 104, -64)), ((74, 73, 2), (-42, 60, 31), (-98, 70, 49)), ((46, -72, 90), (-48, 44, -71), (-99, 48, -112))]\n"
     ]
    }
   ],
   "metadata": {}
  },
  {
   "cell_type": "code",
   "execution_count": 9,
   "source": [
    "identity_transform = lambda vector: vector\n",
    "\n",
    "i2 = infer_matrix(2, identity_transform)\n",
    "i3 = infer_matrix(3, identity_transform)\n",
    "\n",
    "print(i2, i3)"
   ],
   "outputs": [
    {
     "output_type": "stream",
     "name": "stdout",
     "text": [
      "((1, 0), (0, 1)) ((1, 0, 0), (0, 1, 0), (0, 0, 1))\n"
     ]
    }
   ],
   "metadata": {}
  },
  {
   "cell_type": "code",
   "execution_count": 10,
   "source": [
    "transform = ((2,1,1),(1,2,1),(1,1,2))\n",
    "teapot_model_transformed = map_to_polygons(lambda v: multiply_matrix_vector(transform, v),teapot_model)\n",
    "\n",
    "image = d3.render_frame(teapot_model_transformed, light, display_properties)\n",
    "display_inline(image)"
   ],
   "outputs": [
    {
     "output_type": "display_data",
     "data": {
      "text/plain": [
       "<PIL.Image.Image image mode=RGB size=400x400 at 0x7F66D81627F0>"
      ],
      "image/png": "[encoded data removed]"
     },
     "metadata": {}
    }
   ],
   "metadata": {}
  },
  {
   "cell_type": "code",
   "execution_count": 11,
   "source": [
    "m = random_matrix(3, 3)\n",
    "v = random_matrix(1, 3)[0]\n",
    "\n",
    "assert vector_epsilon_equal(multiply_matrix_vector(m, v), multiply_matrix_vector2(m, v))\n",
    "assert vector_epsilon_equal(multiply_matrix_vector(m, v), multiply_matrix_vector3(m, v))\n"
   ],
   "outputs": [],
   "metadata": {}
  },
  {
   "cell_type": "code",
   "execution_count": 12,
   "source": [
    "def compose_a_b(v):\n",
    "    a = ((1, 1, 0), (1, 0, 1), (1, -1, 1))\n",
    "    b = ((0, 2, 1), (0, 1, 0), (1, 0, -1))\n",
    "\n",
    "    return multiply_matrix_vector(b, multiply_matrix_vector(a, v))\n",
    "\n",
    "a = ((1, 1, 0), (1, 0, 1), (1, -1, 1))\n",
    "b = ((0, 2, 1), (0, 1, 0), (1, 0, -1))\n",
    "comp_a_b = infer_matrix(3, compose_a_b)\n",
    "\n",
    "assert matrix_epsilon_equal(comp_a_b, matrix_multiply(b, a))"
   ],
   "outputs": [],
   "metadata": {}
  },
  {
   "cell_type": "code",
   "execution_count": 13,
   "source": [
    "a = ((1, 1, 0), (1, 0, 1), (1, -1, 1))\n",
    "\n",
    "pa = matrix_power(3, a)\n",
    "mma = matrix_multiply(matrix_multiply(a, a), a)\n",
    "\n",
    "print(a)\n",
    "print(pa)\n",
    "print(mma)\n",
    "assert matrix_epsilon_equal(pa, mma)"
   ],
   "outputs": [
    {
     "output_type": "stream",
     "name": "stdout",
     "text": [
      "((1, 1, 0), (1, 0, 1), (1, -1, 1))\n",
      "((4, 1, 2), (3, 1, 1), (1, 1, 0))\n",
      "((4, 1, 2), (3, 1, 1), (1, 1, 0))\n"
     ]
    }
   ],
   "metadata": {}
  }
 ],
 "metadata": {
  "interpreter": {
   "hash": "f94a0cc3b1e43bf4f64e185b5fd28c3e6fc0f064699b775f8851485a45ebfeaa"
  },
  "kernelspec": {
   "name": "python3",
   "display_name": "Python 3.9.6 64-bit ('virtenv': venv)"
  },
  "language_info": {
   "codemirror_mode": {
    "name": "ipython",
    "version": 3
   },
   "file_extension": ".py",
   "mimetype": "text/x-python",
   "name": "python",
   "nbconvert_exporter": "python",
   "pygments_lexer": "ipython3",
   "version": "3.9.6"
  }
 },
 "nbformat": 4,
 "nbformat_minor": 5
}