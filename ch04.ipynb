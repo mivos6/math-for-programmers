{
 "cells": [
  {
   "cell_type": "code",
   "execution_count": 1,
   "id": "medium-shore",
   "metadata": {},
   "outputs": [
    {
     "name": "stdout",
     "output_type": "stream",
     "text": [
      "pygame 2.0.1 (SDL 2.0.14, Python 3.9.1)\n",
      "Hello from the pygame community. https://www.pygame.org/contribute.html\n"
     ]
    }
   ],
   "source": [
    "from math import pi, sin, cos, acos, floor\n",
    "import random\n",
    "import matplotlib\n",
    "import sys\n",
    "\n",
    "sys.path.append('scripts/ch04')\n",
    "from vectors import *\n",
    "import display3d as d3\n",
    "import load_off as ld"
   ]
  },
  {
   "cell_type": "code",
   "execution_count": 2,
   "id": "special-rwanda",
   "metadata": {
    "scrolled": true
   },
   "outputs": [],
   "source": [
    "teapot_vertices, teapot_faces = ld.load_off_file('scripts/ch04/teapot.off')\n",
    "light = (1, -2, 3)\n",
    "teapot_model = ld.create_3d_model(teapot_vertices, teapot_faces)\n",
    "\n",
    "d3.display(teapot_model, light)"
   ]
  },
  {
   "cell_type": "code",
   "execution_count": null,
   "id": "complex-valve",
   "metadata": {},
   "outputs": [],
   "source": []
  }
 ],
 "metadata": {
  "kernelspec": {
   "display_name": "Python 3",
   "language": "python",
   "name": "python3"
  },
  "language_info": {
   "codemirror_mode": {
    "name": "ipython",
    "version": 3
   },
   "file_extension": ".py",
   "mimetype": "text/x-python",
   "name": "python",
   "nbconvert_exporter": "python",
   "pygments_lexer": "ipython3",
   "version": "3.9.1"
  }
 },
 "nbformat": 4,
 "nbformat_minor": 5
}
