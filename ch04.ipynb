{
 "cells": [
  {
   "cell_type": "code",
   "execution_count": 1,
   "id": "medium-shore",
   "metadata": {},
   "outputs": [
    {
     "name": "stdout",
     "output_type": "stream",
     "text": [
      "pygame 2.0.1 (SDL 2.0.14, Python 3.9.2)\n",
      "Hello from the pygame community. https://www.pygame.org/contribute.html\n"
     ]
    }
   ],
   "source": [
    "from math import pi, sin, cos, acos, floor\n",
    "import random\n",
    "import matplotlib\n",
    "import sys\n",
    "\n",
    "sys.path.append('scripts/ch04')\n",
    "from vectors import *\n",
    "from transformations import *\n",
    "import display3d as d3\n",
    "import load_off as ld"
   ]
  },
  {
   "cell_type": "code",
   "execution_count": 7,
   "id": "special-rwanda",
   "metadata": {
    "scrolled": true
   },
   "outputs": [],
   "source": [
    "teapot_vertices, teapot_faces = ld.load_off_file('scripts/ch04/teapot.off')\n",
    "light = (1, 2, 3)\n",
    "teapot_model = ld.create_3d_model(teapot_vertices, teapot_faces)\n",
    "\n",
    "display_properties = d3.DisplayProperties(\n",
    "    scene=d3.Scene(\n",
    "        translate=(-0.5, 0.0, -5.0),\n",
    "        rotate=d3.Rotation(\n",
    "            initial=-90.0,\n",
    "            axis=(1.0, 0.0, 0.0)\n",
    "        )\n",
    "    )\n",
    ")\n",
    "\n",
    "d3.display(teapot_model, light, display_properties)\n",
    "d3.display(teapot_model, light)"
   ]
  },
  {
   "cell_type": "code",
   "execution_count": 3,
   "id": "complex-valve",
   "metadata": {},
   "outputs": [],
   "source": [
    "teapot_model_x2 = map_to_polygons(scale_by(2.0), teapot_model)\n",
    "\n",
    "d3.display(teapot_model_x2, light, display_properties)"
   ]
  },
  {
   "cell_type": "code",
   "execution_count": 4,
   "id": "painful-certification",
   "metadata": {},
   "outputs": [],
   "source": [
    "teapot_model_4x_moved = map_to_polygons(compose(scale_by(4.0), translate_by((-1.5, 0, -2.5))), teapot_model)\n",
    "\n",
    "d3.display(teapot_model_4x_moved, light, display_properties)"
   ]
  },
  {
   "cell_type": "code",
   "execution_count": 8,
   "id": "completed-tulsa",
   "metadata": {},
   "outputs": [],
   "source": [
    "def center(vertices):\n",
    "    #https://docs.python.org/3.4/faq/programming.html#why-do-lambdas-defined-in-a-loop-with-different-values-all-return-the-same-result\n",
    "    keys = [(lambda vertex, index=i : vertex[index]) for i in range(3)]\n",
    "    \n",
    "    min_xyz = (\n",
    "        min(vertices, key=keys[0])[0],\n",
    "        min(vertices, key=keys[1])[1],\n",
    "        min(vertices, key=keys[2])[2]\n",
    "    )\n",
    "    max_xyz = (\n",
    "        max(vertices, key=keys[0])[0],\n",
    "        max(vertices, key=keys[1])[1],\n",
    "        max(vertices, key=keys[2])[2]\n",
    "    )\n",
    "\n",
    "    return scale(0.5, add(min_xyz, max_xyz))\n",
    "\n",
    "\n",
    "teapot_model_rotated = map_to_polygons(\n",
    "    compose(\n",
    "        translate_by(scale(-1.0, center(teapot_vertices))),\n",
    "        rotate_z_by(-pi / 3),\n",
    "        rotate_x_by(-pi / 2)\n",
    "    ),\n",
    "    teapot_model\n",
    ")\n",
    "\n",
    "d3.display(teapot_model_rotated, light)"
   ]
  },
  {
   "cell_type": "code",
   "execution_count": 13,
   "id": "hazardous-shopping",
   "metadata": {},
   "outputs": [],
   "source": [
    "teapot_model_away = map_to_polygons(\n",
    "    compose(\n",
    "        translate_by(scale(-1.0, center(teapot_vertices))),\n",
    "        rotate_x_by(-pi / 2),\n",
    "        translate_by((0, 0, -20))\n",
    "    ),\n",
    "    teapot_model\n",
    ")\n",
    "\n",
    "d3.display(teapot_model_away, light)"
   ]
  },
  {
   "cell_type": "code",
   "execution_count": null,
   "id": "subsequent-blade",
   "metadata": {},
   "outputs": [],
   "source": []
  }
 ],
 "metadata": {
  "kernelspec": {
   "display_name": "Python 3",
   "language": "python",
   "name": "python3"
  },
  "language_info": {
   "codemirror_mode": {
    "name": "ipython",
    "version": 3
   },
   "file_extension": ".py",
   "mimetype": "text/x-python",
   "name": "python",
   "nbconvert_exporter": "python",
   "pygments_lexer": "ipython3",
   "version": "3.9.2"
  }
 },
 "nbformat": 4,
 "nbformat_minor": 5
}
