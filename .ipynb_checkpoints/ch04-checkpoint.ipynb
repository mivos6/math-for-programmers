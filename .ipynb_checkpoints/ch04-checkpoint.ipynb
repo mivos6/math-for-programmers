{
 "cells": [
  {
   "cell_type": "code",
   "execution_count": 1,
   "id": "medium-shore",
   "metadata": {},
   "outputs": [
    {
     "name": "stdout",
     "output_type": "stream",
     "text": [
      "pygame 2.0.1 (SDL 2.0.14, Python 3.9.1)\n",
      "Hello from the pygame community. https://www.pygame.org/contribute.html\n"
     ]
    }
   ],
   "source": [
    "from math import pi, sin, cos, acos, floor\n",
    "import random\n",
    "import matplotlib\n",
    "import sys\n",
    "\n",
    "sys.path.append('scripts/ch04')\n",
    "from vectors import *\n",
    "from transformations import *\n",
    "import display3d as d3\n",
    "import load_off as ld"
   ]
  },
  {
   "cell_type": "code",
   "execution_count": 2,
   "id": "special-rwanda",
   "metadata": {
    "scrolled": true
   },
   "outputs": [],
   "source": [
    "teapot_vertices, teapot_faces = ld.load_off_file('scripts/ch04/teapot.off')\n",
    "light = (1, -2, 3)\n",
    "teapot_model = ld.create_3d_model(teapot_vertices, teapot_faces)\n",
    "\n",
    "display_properties = d3.DisplayProperties(\n",
    "    scene=d3.Scene(\n",
    "        translate=(-0.5, 0.0, -5.0),\n",
    "        rotate=d3.Rotation(\n",
    "            initial=-90.0,\n",
    "            axis=(1.0, 0.0, 0.0)\n",
    "        )\n",
    "    )\n",
    ")\n",
    "\n",
    "d3.display(teapot_model, light, display_properties)"
   ]
  },
  {
   "cell_type": "code",
   "execution_count": null,
   "id": "complex-valve",
   "metadata": {},
   "outputs": [],
   "source": [
    "teapot_model_x2 = map_to_polygons(scale_by(2.0), teapot_model)\n",
    "\n",
    "d3.display(teapot_model_x2, light, display_properties)"
   ]
  },
  {
   "cell_type": "code",
   "execution_count": null,
   "id": "painful-certification",
   "metadata": {},
   "outputs": [],
   "source": [
    "teapot_model_4x_moved = map_to_polygons(compose(scale_by(4.0), translate_by((-1.5, 0, -2.5))), teapot_model)\n",
    "\n",
    "d3.display(teapot_model_4x_moved, light, display_properties)"
   ]
  },
  {
   "cell_type": "code",
   "execution_count": 11,
   "id": "scheduled-printer",
   "metadata": {},
   "outputs": [],
   "source": [
    "teapot_model_rotated = map_to_polygons(compose(rotate_z_by(-pi / 3), rotate_x_by(-pi / 2.3)), teapot_model)\n",
    "\n",
    "d3.display(teapot_model_rotated, light)"
   ]
  },
  {
   "cell_type": "code",
   "execution_count": null,
   "id": "stainless-annotation",
   "metadata": {},
   "outputs": [],
   "source": []
  }
 ],
 "metadata": {
  "kernelspec": {
   "display_name": "Python 3",
   "language": "python",
   "name": "python3"
  },
  "language_info": {
   "codemirror_mode": {
    "name": "ipython",
    "version": 3
   },
   "file_extension": ".py",
   "mimetype": "text/x-python",
   "name": "python",
   "nbconvert_exporter": "python",
   "pygments_lexer": "ipython3",
   "version": "3.9.1"
  }
 },
 "nbformat": 4,
 "nbformat_minor": 5
}
